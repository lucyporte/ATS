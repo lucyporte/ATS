{
  "nbformat": 4,
  "nbformat_minor": 0,
  "metadata": {
    "colab": {
      "provenance": [],
      "include_colab_link": true
    },
    "kernelspec": {
      "name": "python3",
      "display_name": "Python 3"
    },
    "language_info": {
      "name": "python"
    }
  },
  "cells": [
    {
      "cell_type": "markdown",
      "metadata": {
        "id": "view-in-github",
        "colab_type": "text"
      },
      "source": [
        "<a href=\"https://colab.research.google.com/github/lucyporte/ATS/blob/main/Python_101.ipynb\" target=\"_parent\"><img src=\"https://colab.research.google.com/assets/colab-badge.svg\" alt=\"Open In Colab\"/></a>"
      ]
    },
    {
      "cell_type": "markdown",
      "metadata": {
        "id": "2OuLi5ZmYST4"
      },
      "source": [
        "# Python 101\n",
        "\n",
        "[Link to Google Colab](https://colab.research.google.com/drive/1HMd1dDg7BSN9BeaD4P7ogey1wf8o7kt_?usp=sharing)\n"
      ]
    },
    {
      "cell_type": "markdown",
      "metadata": {
        "id": "JMiMolDzYhg7"
      },
      "source": [
        "## Variables\n",
        "\n",
        "Integer: whole number e.g. 5, 14, -200\n",
        "\n",
        "Float: decimal point e.g. 5.4, 6.0000, -6.58\n",
        "\n",
        "Boolean: True or False, 1 or 0\n",
        "\n",
        "String: characters e.g. \"apple\", \"name\"\n"
      ]
    },
    {
      "cell_type": "code",
      "metadata": {
        "colab": {
          "base_uri": "https://localhost:8080/"
        },
        "id": "vDSjzRYcca39",
        "outputId": "96e31174-e95a-4d10-f333-50ca2c112ea3"
      },
      "source": [
        "var1 = \"a\"\n",
        "var2 = 'b'\n",
        "var3 =\"c\"\n",
        "print(var1 + var2+var3)"
      ],
      "execution_count": null,
      "outputs": [
        {
          "output_type": "stream",
          "name": "stdout",
          "text": [
            "abc\n"
          ]
        }
      ]
    },
    {
      "cell_type": "code",
      "metadata": {
        "colab": {
          "base_uri": "https://localhost:8080/"
        },
        "id": "Fd5vj6L1dPeT",
        "outputId": "45baaa88-4d72-4fb8-e91f-c45352d7c216"
      },
      "source": [
        "string = 'Hello, World, This, Is, Python'\n",
        "var = string.split(',')\n",
        "print(var)\n"
      ],
      "execution_count": null,
      "outputs": [
        {
          "output_type": "stream",
          "name": "stdout",
          "text": [
            "['Hello', ' World', ' This', ' Is', ' Python']\n"
          ]
        }
      ]
    },
    {
      "cell_type": "code",
      "metadata": {
        "colab": {
          "base_uri": "https://localhost:8080/"
        },
        "id": "D43zOp81dXAe",
        "outputId": "8a9a58a9-7f12-45f4-ec8b-d9dcb54e4664"
      },
      "source": [
        "integer = 5\n",
        "print(float(integer))\n",
        "\n",
        "print(int(5.7))"
      ],
      "execution_count": null,
      "outputs": [
        {
          "output_type": "stream",
          "name": "stdout",
          "text": [
            "5.0\n",
            "5\n"
          ]
        }
      ]
    },
    {
      "cell_type": "code",
      "metadata": {
        "colab": {
          "base_uri": "https://localhost:8080/"
        },
        "id": "JcJ3JKH9dbxk",
        "outputId": "f1b3a1ee-bff1-40cd-f041-f74dbbc6e7d3"
      },
      "source": [
        "string = 'Hello World'\n",
        "print(list(string))"
      ],
      "execution_count": null,
      "outputs": [
        {
          "output_type": "stream",
          "name": "stdout",
          "text": [
            "['H', 'e', 'l', 'l', 'o', ' ', 'W', 'o', 'r', 'l', 'd']\n"
          ]
        }
      ]
    },
    {
      "cell_type": "markdown",
      "metadata": {
        "id": "qeMvaWsVYjPg"
      },
      "source": [
        "## Slicing"
      ]
    },
    {
      "cell_type": "code",
      "metadata": {
        "colab": {
          "base_uri": "https://localhost:8080/"
        },
        "id": "sTDPRzs6dhCz",
        "outputId": "fe6ff577-cbfd-4f7f-aa41-a6fbab5481ee"
      },
      "source": [
        "string = 'Hello World'\n",
        "print(string[0:5])"
      ],
      "execution_count": null,
      "outputs": [
        {
          "output_type": "stream",
          "name": "stdout",
          "text": [
            "Hello\n"
          ]
        }
      ]
    },
    {
      "cell_type": "code",
      "metadata": {
        "colab": {
          "base_uri": "https://localhost:8080/"
        },
        "id": "kwCs-Ufpdj-a",
        "outputId": "b4dc79aa-c7f1-4782-dd6b-328848de8451"
      },
      "source": [
        "string = 'Hello World'\n",
        "print(string[:1])"
      ],
      "execution_count": null,
      "outputs": [
        {
          "output_type": "stream",
          "name": "stdout",
          "text": [
            "H\n"
          ]
        }
      ]
    },
    {
      "cell_type": "markdown",
      "metadata": {
        "id": "7b_EyZuBYl58"
      },
      "source": [
        "## If-else statements"
      ]
    },
    {
      "cell_type": "code",
      "metadata": {
        "colab": {
          "base_uri": "https://localhost:8080/"
        },
        "id": "dZEtqU_cdlQi",
        "outputId": "5f5bd370-39cb-465a-d205-8435ab545413"
      },
      "source": [
        "x = 3\n",
        "y = 4\n",
        "\n",
        "if x == 5:\n",
        "    print (\"X is 5\")\n",
        "    \n",
        "elif x!= 5:\n",
        "    print (\"X is not equal to 5\")"
      ],
      "execution_count": null,
      "outputs": [
        {
          "output_type": "stream",
          "name": "stdout",
          "text": [
            "X is not equal to 5\n"
          ]
        }
      ]
    },
    {
      "cell_type": "code",
      "metadata": {
        "colab": {
          "base_uri": "https://localhost:8080/"
        },
        "id": "BoGFCRe0dp7V",
        "outputId": "17c1b34b-53d7-4814-d038-08c442c1493c"
      },
      "source": [
        "if x==5 and y==4:\n",
        "    print (\"X is 5\")\n",
        "else:\n",
        "    print (\"X is not equal to 5\")"
      ],
      "execution_count": null,
      "outputs": [
        {
          "output_type": "stream",
          "name": "stdout",
          "text": [
            "X is not equal to 5\n"
          ]
        }
      ]
    },
    {
      "cell_type": "markdown",
      "metadata": {
        "id": "IJxhDGP9RYIr"
      },
      "source": [
        "##List\n",
        "\n",
        "Square brackets\n",
        "List items are ordered, changeable, and allow duplicate values."
      ]
    },
    {
      "cell_type": "code",
      "metadata": {
        "colab": {
          "base_uri": "https://localhost:8080/"
        },
        "id": "QPrhuH5oRyPM",
        "outputId": "41ef4dac-6587-46fd-9246-838e78fc440f"
      },
      "source": [
        "thislist = [\"apple\", \"banana\", \"cherry\"]\n",
        "print(thislist)"
      ],
      "execution_count": null,
      "outputs": [
        {
          "output_type": "stream",
          "name": "stdout",
          "text": [
            "['apple', 'banana', 'cherry']\n"
          ]
        }
      ]
    },
    {
      "cell_type": "code",
      "metadata": {
        "colab": {
          "base_uri": "https://localhost:8080/"
        },
        "id": "JUzILT2eTb8M",
        "outputId": "df547c5c-e5bd-4505-8a51-b07871e2139d"
      },
      "source": [
        "thislist = [\"apple\", \"banana\", \"cherry\", \"apple\", \"cherry\"]\n",
        "print(thislist) # allows duplicates"
      ],
      "execution_count": null,
      "outputs": [
        {
          "output_type": "stream",
          "name": "stdout",
          "text": [
            "['apple', 'banana', 'cherry', 'apple', 'cherry']\n"
          ]
        }
      ]
    },
    {
      "cell_type": "code",
      "metadata": {
        "colab": {
          "base_uri": "https://localhost:8080/"
        },
        "id": "4B6pirDsToGM",
        "outputId": "f3adb389-c9a6-45df-9d82-9db118b05558"
      },
      "source": [
        "thislist = [\"apple\", \"banana\", \"cherry\",\"orange\"]\n",
        "print(len(thislist)) # length function"
      ],
      "execution_count": null,
      "outputs": [
        {
          "output_type": "stream",
          "name": "stdout",
          "text": [
            "4\n"
          ]
        }
      ]
    },
    {
      "cell_type": "code",
      "metadata": {
        "id": "2scT3oOoTrR0"
      },
      "source": [
        "list1 = [\"abc\", 34, True, 40, \"male\"] ## allows different data types"
      ],
      "execution_count": null,
      "outputs": []
    },
    {
      "cell_type": "code",
      "metadata": {
        "colab": {
          "base_uri": "https://localhost:8080/"
        },
        "id": "37_o45gGT2fW",
        "outputId": "7b565c9c-140e-4332-a1fb-3b279fd3b5d4"
      },
      "source": [
        "list1[4]= \"female\" # changeable\n",
        "print(list1)"
      ],
      "execution_count": null,
      "outputs": [
        {
          "output_type": "stream",
          "name": "stdout",
          "text": [
            "['abc', 34, True, 40, 'female']\n"
          ]
        }
      ]
    },
    {
      "cell_type": "markdown",
      "metadata": {
        "id": "DMoLo9m7ULLM"
      },
      "source": [
        "## Tuples\n",
        "\n",
        "A tuple is a collection which is ordered and unchangeable.\n",
        "\n",
        "Tuples are written with round brackets.\n",
        "\n",
        "Allows duplicates"
      ]
    },
    {
      "cell_type": "code",
      "metadata": {
        "id": "GTEqH1loUZvl"
      },
      "source": [
        "mytuple = (\"apple\", \"banana\", \"cherry\",\"apple\")"
      ],
      "execution_count": null,
      "outputs": []
    },
    {
      "cell_type": "code",
      "metadata": {
        "id": "b7hsCQJJV50U",
        "colab": {
          "base_uri": "https://localhost:8080/",
          "height": 166
        },
        "outputId": "4744d0eb-0be5-4c80-8f9a-81e91084bc9f"
      },
      "source": [
        "mytuple[0]=\"pear\"\n",
        "mytuple"
      ],
      "execution_count": null,
      "outputs": [
        {
          "output_type": "error",
          "ename": "NameError",
          "evalue": "ignored",
          "traceback": [
            "\u001b[0;31m---------------------------------------------------------------------------\u001b[0m",
            "\u001b[0;31mNameError\u001b[0m                                 Traceback (most recent call last)",
            "\u001b[0;32m<ipython-input-1-5d035d3a4a5c>\u001b[0m in \u001b[0;36m<module>\u001b[0;34m\u001b[0m\n\u001b[0;32m----> 1\u001b[0;31m \u001b[0mmytuple\u001b[0m\u001b[0;34m[\u001b[0m\u001b[0;36m0\u001b[0m\u001b[0;34m]\u001b[0m\u001b[0;34m=\u001b[0m\u001b[0;34m\"pear\"\u001b[0m\u001b[0;34m\u001b[0m\u001b[0;34m\u001b[0m\u001b[0m\n\u001b[0m",
            "\u001b[0;31mNameError\u001b[0m: name 'mytuple' is not defined"
          ]
        }
      ]
    },
    {
      "cell_type": "markdown",
      "metadata": {
        "id": "_Mc1LqFpRlhH"
      },
      "source": [
        "## Dictionnary\n",
        "\n",
        "Dictionaries are used to store data values in key:value pairs."
      ]
    },
    {
      "cell_type": "code",
      "metadata": {
        "colab": {
          "base_uri": "https://localhost:8080/"
        },
        "id": "yUREKJAXRpRw",
        "outputId": "9eec1433-f57a-440f-8d3a-ca10ba5f705e"
      },
      "source": [
        "thisdict = {\n",
        "  \"brand\": \"Ford\",\n",
        "  \"model\": \"Mustang\",\n",
        "  \"year\": 1964\n",
        "}\n",
        "print(thisdict[\"model\"])"
      ],
      "execution_count": null,
      "outputs": [
        {
          "output_type": "stream",
          "name": "stdout",
          "text": [
            "Mustang\n"
          ]
        }
      ]
    },
    {
      "cell_type": "code",
      "metadata": {
        "colab": {
          "base_uri": "https://localhost:8080/"
        },
        "id": "-pAhvUSiUy2y",
        "outputId": "e6642fcf-e162-4588-8e03-4473451c0a5d"
      },
      "source": [
        "thisdict = {\n",
        "  \"brand\": \"Ford\",\n",
        "  \"model\": [\"Mustang\", \"abc\"],\n",
        "  \"year\": 1964,\n",
        "  \"year\": 2020\n",
        "} # overwrites something, does not allow duplicates keys\n",
        "print(thisdict)"
      ],
      "execution_count": null,
      "outputs": [
        {
          "output_type": "stream",
          "name": "stdout",
          "text": [
            "{'brand': 'Ford', 'model': ['Mustang', 'abc'], 'year': 2020}\n"
          ]
        }
      ]
    },
    {
      "cell_type": "markdown",
      "metadata": {
        "id": "j2pxsGd1RqUh"
      },
      "source": [
        "## For loops"
      ]
    },
    {
      "cell_type": "code",
      "metadata": {
        "colab": {
          "base_uri": "https://localhost:8080/"
        },
        "id": "t-nJXV_SRrUJ",
        "outputId": "8bf535eb-2618-42f6-e7d7-748341b1ff00"
      },
      "source": [
        "ARRAY = [0, 1, 2, 3, 4, 5, 6, 7, 8, 9, 10]\n",
        "\n",
        "for element in ARRAY:\n",
        "    print(element)\n",
        "\n",
        "print('For loop terminated')"
      ],
      "execution_count": null,
      "outputs": [
        {
          "output_type": "stream",
          "name": "stdout",
          "text": [
            "0\n",
            "1\n",
            "2\n",
            "3\n",
            "4\n",
            "5\n",
            "6\n",
            "7\n",
            "8\n",
            "9\n",
            "10\n",
            "For loop terminated\n"
          ]
        }
      ]
    },
    {
      "cell_type": "markdown",
      "metadata": {
        "id": "_MpfGRyMRrrt"
      },
      "source": [
        "## While loops"
      ]
    },
    {
      "cell_type": "code",
      "metadata": {
        "colab": {
          "base_uri": "https://localhost:8080/"
        },
        "id": "3bWITJO3Rs0F",
        "outputId": "01ec029a-895c-47b5-85b1-540dc89ec730"
      },
      "source": [
        "COUNTER = 0\n",
        "\n",
        "while COUNTER <= 10:\n",
        "\n",
        "    print(COUNTER)\n",
        "\n",
        "    COUNTER += 1  # short-hand for COUNTER = COUNTER + 1\n",
        "\n",
        "print('While loop termintated')"
      ],
      "execution_count": null,
      "outputs": [
        {
          "output_type": "stream",
          "name": "stdout",
          "text": [
            "0\n",
            "1\n",
            "2\n",
            "3\n",
            "4\n",
            "5\n",
            "6\n",
            "7\n",
            "8\n",
            "9\n",
            "10\n",
            "While loop termintated\n"
          ]
        }
      ]
    },
    {
      "cell_type": "markdown",
      "metadata": {
        "id": "XbP6n7SvRwHE"
      },
      "source": [
        "## Break\n",
        "\n",
        "With the break statement we can stop the loop before it has looped through all the items:"
      ]
    },
    {
      "cell_type": "code",
      "metadata": {
        "colab": {
          "base_uri": "https://localhost:8080/"
        },
        "id": "-wgGD86GRxch",
        "outputId": "1e20dec1-9fab-42a3-efab-30481026e4d0"
      },
      "source": [
        "fruits = [\"apple\", \"banana\", \"cherry\"]\n",
        "for x in fruits:\n",
        "  print(x)\n",
        "  if x == \"banana\":\n",
        "    break"
      ],
      "execution_count": null,
      "outputs": [
        {
          "output_type": "stream",
          "name": "stdout",
          "text": [
            "apple\n",
            "banana\n"
          ]
        }
      ]
    },
    {
      "cell_type": "markdown",
      "metadata": {
        "id": "6-4rhYJnVFyj"
      },
      "source": [
        "## Continue\n",
        "\n",
        "With the continue statement we can stop the current iteration of the loop, and continue with the next.\n",
        "\n",
        "Do not print banana:"
      ]
    },
    {
      "cell_type": "code",
      "metadata": {
        "colab": {
          "base_uri": "https://localhost:8080/"
        },
        "id": "jOWK7ZKfU-xn",
        "outputId": "76035979-8654-4534-f057-40028a05f5f9"
      },
      "source": [
        "fruits = [\"apple\", \"banana\", \"cherry\"]\n",
        "for x in fruits:\n",
        "  if x == \"banana\":\n",
        "    continue\n",
        "  print(x)"
      ],
      "execution_count": null,
      "outputs": [
        {
          "output_type": "stream",
          "name": "stdout",
          "text": [
            "apple\n",
            "cherry\n"
          ]
        }
      ]
    },
    {
      "cell_type": "code",
      "metadata": {
        "id": "BiERenFgVE1S"
      },
      "source": [],
      "execution_count": null,
      "outputs": []
    },
    {
      "cell_type": "code",
      "metadata": {
        "id": "scVv0p_ZVdAq"
      },
      "source": [],
      "execution_count": null,
      "outputs": []
    },
    {
      "cell_type": "markdown",
      "metadata": {
        "id": "vAXEd1rgVnno"
      },
      "source": [
        "## The range() Function\n",
        "To loop through a set of code a specified number of times, we can use the range() function,\n",
        "The range() function returns a sequence of numbers, starting from 0 by default, and increments by 1 (by default), and ends at a specified number."
      ]
    },
    {
      "cell_type": "code",
      "metadata": {
        "colab": {
          "base_uri": "https://localhost:8080/"
        },
        "id": "b94CH4e9Vo1Q",
        "outputId": "da1a9bbf-4701-4f0e-d9d9-687af1e58650"
      },
      "source": [
        "for x in range(6):\n",
        "  print(x)"
      ],
      "execution_count": null,
      "outputs": [
        {
          "output_type": "stream",
          "name": "stdout",
          "text": [
            "0\n",
            "1\n",
            "2\n",
            "3\n",
            "4\n",
            "5\n"
          ]
        }
      ]
    },
    {
      "cell_type": "code",
      "metadata": {
        "colab": {
          "base_uri": "https://localhost:8080/"
        },
        "id": "KGrbrMDoVqiD",
        "outputId": "01463ece-9747-4842-ba30-c16e617077ca"
      },
      "source": [
        "for x in range(4,30,3): # from 2 to 29, every 3 numbers\n",
        "  print(x)"
      ],
      "execution_count": null,
      "outputs": [
        {
          "output_type": "stream",
          "name": "stdout",
          "text": [
            "4\n",
            "7\n",
            "10\n",
            "13\n",
            "16\n",
            "19\n",
            "22\n",
            "25\n",
            "28\n"
          ]
        }
      ]
    },
    {
      "cell_type": "code",
      "metadata": {
        "id": "ULmeGeBwVtCC"
      },
      "source": [],
      "execution_count": null,
      "outputs": []
    },
    {
      "cell_type": "markdown",
      "metadata": {
        "id": "kB_jK4WsWE4A"
      },
      "source": [
        "## Functions\n",
        "\n",
        "A function is a block of code which only runs when it is called.\n",
        "\n",
        "You can pass data, known as parameters, into a function.\n",
        "\n",
        "A function can return data as a result."
      ]
    },
    {
      "cell_type": "code",
      "metadata": {
        "id": "yYtS_BgbWGRE"
      },
      "source": [
        "def my_function():\n",
        "  print(\"Hello from a function\")"
      ],
      "execution_count": null,
      "outputs": []
    },
    {
      "cell_type": "code",
      "metadata": {
        "colab": {
          "base_uri": "https://localhost:8080/"
        },
        "id": "ZasvYRfCWLkU",
        "outputId": "87e82fcd-856e-4d40-e424-c46ad50b40eb"
      },
      "source": [
        "my_function()"
      ],
      "execution_count": null,
      "outputs": [
        {
          "output_type": "stream",
          "name": "stdout",
          "text": [
            "Hello from a function\n"
          ]
        }
      ]
    },
    {
      "cell_type": "code",
      "metadata": {
        "colab": {
          "base_uri": "https://localhost:8080/",
          "height": 235
        },
        "id": "TtxZaLqOWONM",
        "outputId": "76bded95-c15c-4d4b-e289-7309676ec38f"
      },
      "source": [
        "def my_function(y):\n",
        "  for x in y:\n",
        "    print(x)\n",
        "\n",
        "print(y)\n",
        "\n",
        "fruits = [\"apple\", \"banana\", \"cherry\"]\n",
        "\n",
        "my_function(fruits)"
      ],
      "execution_count": null,
      "outputs": [
        {
          "output_type": "error",
          "ename": "NameError",
          "evalue": "ignored",
          "traceback": [
            "\u001b[0;31m---------------------------------------------------------------------------\u001b[0m",
            "\u001b[0;31mNameError\u001b[0m                                 Traceback (most recent call last)",
            "\u001b[0;32m<ipython-input-54-f9e5c42b9c0b>\u001b[0m in \u001b[0;36m<module>\u001b[0;34m()\u001b[0m\n\u001b[1;32m      3\u001b[0m     \u001b[0mprint\u001b[0m\u001b[0;34m(\u001b[0m\u001b[0mx\u001b[0m\u001b[0;34m)\u001b[0m\u001b[0;34m\u001b[0m\u001b[0;34m\u001b[0m\u001b[0m\n\u001b[1;32m      4\u001b[0m \u001b[0;34m\u001b[0m\u001b[0m\n\u001b[0;32m----> 5\u001b[0;31m \u001b[0mprint\u001b[0m\u001b[0;34m(\u001b[0m\u001b[0my\u001b[0m\u001b[0;34m)\u001b[0m\u001b[0;34m\u001b[0m\u001b[0;34m\u001b[0m\u001b[0m\n\u001b[0m\u001b[1;32m      6\u001b[0m \u001b[0;34m\u001b[0m\u001b[0m\n\u001b[1;32m      7\u001b[0m \u001b[0mfruits\u001b[0m \u001b[0;34m=\u001b[0m \u001b[0;34m[\u001b[0m\u001b[0;34m\"apple\"\u001b[0m\u001b[0;34m,\u001b[0m \u001b[0;34m\"banana\"\u001b[0m\u001b[0;34m,\u001b[0m \u001b[0;34m\"cherry\"\u001b[0m\u001b[0;34m]\u001b[0m\u001b[0;34m\u001b[0m\u001b[0;34m\u001b[0m\u001b[0m\n",
            "\u001b[0;31mNameError\u001b[0m: name 'y' is not defined"
          ]
        }
      ]
    },
    {
      "cell_type": "code",
      "metadata": {
        "colab": {
          "base_uri": "https://localhost:8080/"
        },
        "id": "Kpay8tniWXmE",
        "outputId": "95253d66-4a0d-43f9-b40e-8c6d3d1a7e50"
      },
      "source": [
        "def my_function(x):\n",
        "  return 5 * x \n",
        "\n",
        "# use a return statement to return a value\n",
        "\n",
        "number = my_function(3)\n",
        "print(number)\n",
        "print(my_function(3))\n",
        "print(my_function(5))\n",
        "print(my_function(9))"
      ],
      "execution_count": null,
      "outputs": [
        {
          "output_type": "stream",
          "name": "stdout",
          "text": [
            "15\n",
            "15\n",
            "25\n",
            "45\n"
          ]
        }
      ]
    },
    {
      "cell_type": "code",
      "metadata": {
        "id": "rdPhH5z3WbK-"
      },
      "source": [],
      "execution_count": null,
      "outputs": []
    }
  ]
}